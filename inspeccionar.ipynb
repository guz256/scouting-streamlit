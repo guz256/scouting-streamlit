{
 "cells": [
  {
   "cell_type": "code",
   "execution_count": 10,
   "metadata": {},
   "outputs": [],
   "source": [
    "import pandas as pd\n",
    "def load_data():\n",
    "    df = pd.read_csv(\"data/primera_segunda_percentiles.csv\")\n",
    "\n",
    "    # Solo intentamos convertir columnas que parecen tener solo números\n",
    "    for col in df.select_dtypes(include=\"object\").columns:\n",
    "        sample = df[col].dropna().astype(str).str.replace(\",\", \".\")\n",
    "        if sample.str.match(r\"^\\d+(\\.\\d+)?$\").all():\n",
    "            df[col] = pd.to_numeric(sample, errors=\"coerce\")\n",
    "    return df\n",
    "\n",
    "df = load_data()"
   ]
  },
  {
   "cell_type": "code",
   "execution_count": 13,
   "metadata": {},
   "outputs": [
    {
     "data": {
      "text/plain": [
       "array(['Chile Primera División', 'Chile Segunda División',\n",
       "       'Uruguay Segunda División', 'Uruguay Primera División',\n",
       "       'Argentina Segunda División', 'Argentina Federal A'], dtype=object)"
      ]
     },
     "execution_count": 13,
     "metadata": {},
     "output_type": "execute_result"
    }
   ],
   "source": [
    "df['Torneo'].unique()"
   ]
  },
  {
   "cell_type": "code",
   "execution_count": 2,
   "metadata": {},
   "outputs": [
    {
     "data": {
      "text/plain": [
       "array(['Zaguero', 'Lateral', 'Volante', 'Interior', 'Mediapunta',\n",
       "       'Extremo', 'Delantero'], dtype=object)"
      ]
     },
     "execution_count": 2,
     "metadata": {},
     "output_type": "execute_result"
    }
   ],
   "source": [
    "df['Posición'].dropna().unique()"
   ]
  },
  {
   "cell_type": "code",
   "execution_count": 4,
   "metadata": {},
   "outputs": [
    {
     "name": "stdout",
     "output_type": "stream",
     "text": [
      "['Percentil Partidos jugados', 'Percentil Minutos jugados', 'Percentil Tarjetas amarillas', 'Percentil Tarjetas rojas', 'Percentil Faltas', 'Percentil Faltas recibidas', 'Percentil Duelos', 'Percentil Duelos Ganados', 'Percentil Duelos Defensivos', 'Percentil Duelos Defensivos Ganados', 'Percentil Duelos Aereos', 'Percentil Duelos Aereos Ganados', 'Percentil Duelos Ofensivos', 'Percentil Duelos Ofensivos Ganados', 'Percentil Interceptaciones', 'Percentil Entradas', 'Percentil Acciones defensivas', 'Percentil Tiro Interceptado', 'Percentil Carreras En Progresion', 'Percentil Aceleraciones', 'Percentil Pases Progresivos', 'Percentil Pases Progresivos Acertados', 'Percentil Pases Hacia Adelante', 'Percentil Pases Hacia Adelante Acertados', 'Percentil Pases', 'Percentil Pases Acertados', 'Percentil Pases Largos', 'Percentil Pases Largos Acertados', 'Percentil Pases Al Ultimo Tercio', 'Percentil Pases Al Ultimo Tercio Acertados', 'Percentil Pases Recibidos', 'Percentil Toques en el Área', 'Percentil Goles', 'Percentil Goles s/Penales', 'Percentil xG', 'Percentil Goles de Cabeza', 'Percentil Remates', 'Percentil Remates al Arco', 'Percentil Conversión', 'Percentil Asistencias', 'Percentil xA', 'Percentil Acciones de Ataque', 'Percentil Regates', 'Percentil Regates Exitosos', 'Percentil Centros', 'Percentil Centros Acertados', 'Percentil Pases en Profundidad', 'Percentil Pases en Profundidad Acertados', 'Percentil Segunda Asistencia', 'Percentil Jugadas Claves']\n"
     ]
    }
   ],
   "source": [
    "percentil_cols = [col for col in df.columns if col.startswith(\"Percentil\")]\n",
    "print(percentil_cols)"
   ]
  },
  {
   "cell_type": "code",
   "execution_count": null,
   "metadata": {},
   "outputs": [
    {
     "ename": "NameError",
     "evalue": "name 'st' is not defined",
     "output_type": "error",
     "traceback": [
      "\u001b[1;31m---------------------------------------------------------------------------\u001b[0m",
      "\u001b[1;31mNameError\u001b[0m                                 Traceback (most recent call last)",
      "Cell \u001b[1;32mIn[2], line 1\u001b[0m\n\u001b[1;32m----> 1\u001b[0m \u001b[38;5;129m@st\u001b[39m\u001b[38;5;241m.\u001b[39mcache_data\n\u001b[0;32m      2\u001b[0m \u001b[38;5;28;01mdef\u001b[39;00m \u001b[38;5;21mload_data\u001b[39m():\n\u001b[0;32m      3\u001b[0m     \u001b[38;5;28;01mreturn\u001b[39;00m pd\u001b[38;5;241m.\u001b[39mread_csv(\u001b[38;5;124m\"\u001b[39m\u001b[38;5;124mdata/primera_segunda_percentiles.csv\u001b[39m\u001b[38;5;124m\"\u001b[39m)\n\u001b[0;32m      5\u001b[0m \u001b[38;5;66;03m# Cargar datos\u001b[39;00m\n",
      "\u001b[1;31mNameError\u001b[0m: name 'st' is not defined"
     ]
    }
   ],
   "source": []
  },
  {
   "cell_type": "code",
   "execution_count": null,
   "metadata": {},
   "outputs": [],
   "source": []
  }
 ],
 "metadata": {
  "kernelspec": {
   "display_name": "base",
   "language": "python",
   "name": "python3"
  },
  "language_info": {
   "codemirror_mode": {
    "name": "ipython",
    "version": 3
   },
   "file_extension": ".py",
   "mimetype": "text/x-python",
   "name": "python",
   "nbconvert_exporter": "python",
   "pygments_lexer": "ipython3",
   "version": "3.11.7"
  }
 },
 "nbformat": 4,
 "nbformat_minor": 2
}
